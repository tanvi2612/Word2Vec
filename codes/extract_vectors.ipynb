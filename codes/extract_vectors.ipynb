{
 "cells": [
  {
   "cell_type": "code",
   "execution_count": 1,
   "metadata": {},
   "outputs": [],
   "source": [
    "from sklearn.manifold import TSNE\n",
    "from numpy.linalg import norm\n",
    "import numpy as np\n",
    "import matplotlib.pyplot as plt"
   ]
  },
  {
   "cell_type": "code",
   "execution_count": 2,
   "metadata": {},
   "outputs": [
    {
     "name": "stdout",
     "output_type": "stream",
     "text": [
      "done\n"
     ]
    }
   ],
   "source": [
    "f = open('vocab.txt', 'r')\n",
    "vocab = {}\n",
    "vocab_length = 0\n",
    "for line in f.readlines():\n",
    "    line = line.split()\n",
    "    if not line:\n",
    "        continue\n",
    "    if len(line) == 1:\n",
    "        vocab[''] = int(line[0])\n",
    "        continue\n",
    "    \n",
    "#     print(line)\n",
    "    \n",
    "    vocab[line[0]] = int(line[1])\n",
    "    vocab_length += 1\n",
    "print('done')\n",
    "f.close()"
   ]
  },
  {
   "cell_type": "code",
   "execution_count": 3,
   "metadata": {},
   "outputs": [
    {
     "name": "stdout",
     "output_type": "stream",
     "text": [
      "725949\n",
      "2455\n"
     ]
    }
   ],
   "source": [
    "print(len(vocab))\n",
    "print(vocab['camera'])"
   ]
  },
  {
   "cell_type": "code",
   "execution_count": 4,
   "metadata": {},
   "outputs": [
    {
     "name": "stdout",
     "output_type": "stream",
     "text": [
      "725949\n",
      "done\n"
     ]
    }
   ],
   "source": [
    "f = open('embedding_cbow.txt') \n",
    "embedding = np.zeros((vocab_length+1, 10))\n",
    "embed = []\n",
    "v = 0\n",
    "for line in f.readlines():\n",
    "    line = line.strip()\n",
    "#     print(line[-1])\n",
    "    if not line:\n",
    "        continue\n",
    "    if line[0] == '[':\n",
    "        embed = []\n",
    "        line = line.lstrip('[')\n",
    "        line = line.split()\n",
    "        for w in line:\n",
    "            if not w:\n",
    "                continue\n",
    "            else:\n",
    "                embed.append(float(w))\n",
    "    elif line[-1] == ']':\n",
    "        line = line.rstrip(']')\n",
    "        line = line.split()\n",
    "        for w in line:\n",
    "            if not w:\n",
    "                continue\n",
    "            else:\n",
    "                embed.append(float(w))\n",
    "#         print(len(embed))\n",
    "        embedding[v] = embed\n",
    "        v += 1\n",
    "        if v ==725949:\n",
    "            break\n",
    "    else:\n",
    "        line = line.strip()\n",
    "        line = line.split()\n",
    "        for w in line:\n",
    "            if not w:\n",
    "                continue\n",
    "            else:\n",
    "                embed.append(float(w))\n",
    "        \n",
    "print(v)    \n",
    "\n",
    "print('done')"
   ]
  },
  {
   "cell_type": "code",
   "execution_count": 5,
   "metadata": {},
   "outputs": [
    {
     "name": "stdout",
     "output_type": "stream",
     "text": [
      "[0.00263927 0.34710645 0.6757347  0.12504997 0.44947283 0.59529768\n",
      " 0.0868258  0.44566208 0.09204656 0.9468419 ]\n"
     ]
    }
   ],
   "source": [
    "print(embedding[vocab['camera']])"
   ]
  },
  {
   "cell_type": "code",
   "execution_count": 76,
   "metadata": {},
   "outputs": [],
   "source": [
    "f = open('embedsgns.txt')\n",
    "lines = f.readlines()\n",
    "embed = lines[0].strip('[]').split('[')\n",
    "words = lines[1].strip('[]').split(',')\n",
    "for w in range(len(words)):\n",
    "    words[w] = words[w].strip()\n",
    "    words[w] = words[w].strip(\"\\'\")\n",
    "    \n",
    "# print(words)\n",
    "ind = 0\n",
    "embedding = {}\n",
    "for e in embed:\n",
    "    e = e.strip()\n",
    "    e = e.rstrip(',')\n",
    "    e = e.strip()    \n",
    "    e = e.rstrip(']')\n",
    "    e = e.strip()\n",
    "    e = e.split(',')\n",
    "    embeddings = []\n",
    "    for w in e:\n",
    "        embeddings.append(float(w))\n",
    "    \n",
    "    embedding[words[ind]] = embeddings\n",
    "    ind += 1\n",
    "#     print(e)\n",
    "    \n"
   ]
  },
  {
   "cell_type": "code",
   "execution_count": 77,
   "metadata": {},
   "outputs": [
    {
     "name": "stdout",
     "output_type": "stream",
     "text": [
      "[-0.8721921435710075, -0.35906806397692914, 0.0831793604542305, 0.27593813162488456, 0.009394766074227727]\n"
     ]
    }
   ],
   "source": [
    "print(embedding['camera'])"
   ]
  },
  {
   "cell_type": "code",
   "execution_count": 124,
   "metadata": {},
   "outputs": [
    {
     "name": "stdout",
     "output_type": "stream",
     "text": [
      "(8567, 5)\n"
     ]
    }
   ],
   "source": [
    "import numpy as np\n",
    "b = np.load('embedcbow.npy')\n",
    "print(np.shape(b))"
   ]
  },
  {
   "cell_type": "code",
   "execution_count": 14,
   "metadata": {},
   "outputs": [],
   "source": [
    "def get_sim(word):\n",
    "    similarity = {}\n",
    "    a = embedding[vocab[word]]\n",
    "    for w in vocab:\n",
    "        b = embedding[vocab[w]]\n",
    "        cos_sim = np.dot(a, b)/(norm(a)*norm(b))\n",
    "        similarity[w] = cos_sim\n",
    "#     for w in similarity:\n",
    "#         print(w, similarity[w])\n",
    "    ans = [k for k, v in sorted(similarity.items(), key=lambda item: item[1], reverse=True)]\n",
    "    l = 0\n",
    "    vec = []\n",
    "    emb = []\n",
    "    sim = []\n",
    "    for w in ans:\n",
    "        if l == 10:\n",
    "            break\n",
    "        if w == 'BEGIN' or w == 'END':\n",
    "            pass\n",
    "        else:\n",
    "            l += 1\n",
    "            vec.append(w)\n",
    "            emb.append(embedding[vocab[w]])\n",
    "            sim.append(similarity[w])\n",
    "    return vec, emb, sim"
   ]
  },
  {
   "cell_type": "code",
   "execution_count": 23,
   "metadata": {},
   "outputs": [
    {
     "name": "stdout",
     "output_type": "stream",
     "text": [
      "camera 1.0\n",
      "misconstruing 0.9910748515703022\n",
      "automatucally 0.9881420377994826\n",
      "failutre 0.9867764549196054\n",
      "lifelogitech 0.9857014008041985\n",
      "netback 0.985327237040698\n",
      "b00585clsq 0.9833822802173674\n",
      "optionnal 0.98180329673453\n",
      "no-fills 0.981604319962775\n",
      "betwene 0.9809129882287108\n"
     ]
    }
   ],
   "source": [
    "vect, X, simi = get_sim('camera')\n",
    "for y in range(10):\n",
    "    print(vect[y], simi[y])\n"
   ]
  },
  {
   "cell_type": "code",
   "execution_count": 24,
   "metadata": {},
   "outputs": [
    {
     "data": {
      "image/png": "[encoded data removed]",
      "text/plain": [
       "<Figure size 432x288 with 1 Axes>"
      ]
     },
     "metadata": {
      "needs_background": "light"
     },
     "output_type": "display_data"
    }
   ],
   "source": [
    "\n",
    "X_embedded = TSNE(n_components=2).fit_transform(X)\n",
    "\n",
    "xtarget=[]\n",
    "ytarget=[]\n",
    "for i in X_embedded:    \n",
    "    xtarget.append(i[0])\n",
    "    ytarget.append(i[1])\n",
    "    \n",
    "plt.scatter(xtarget,ytarget)\n",
    "plt.title(\"Camera\")\n",
    "plt.show()"
   ]
  },
  {
   "cell_type": "code",
   "execution_count": null,
   "metadata": {},
   "outputs": [],
   "source": []
  }
 ],
 "metadata": {
  "kernelspec": {
   "display_name": "Python 3.8.3 64-bit ('base': conda)",
   "language": "python",
   "name": "python38364bitbaseconda4669bbdb6fe5418e91a15140dab913db"
  },
  "language_info": {
   "codemirror_mode": {
    "name": "ipython",
    "version": 3
   },
   "file_extension": ".py",
   "mimetype": "text/x-python",
   "name": "python",
   "nbconvert_exporter": "python",
   "pygments_lexer": "ipython3",
   "version": "3.8.3"
  }
 },
 "nbformat": 4,
 "nbformat_minor": 4
}
